{
  "cells": [
    {
      "cell_type": "code",
      "execution_count": null,
      "metadata": {
        "colab": {
          "base_uri": "https://localhost:8080/"
        },
        "id": "qPZRyTnR-jWi",
        "outputId": "a4db298c-be90-4450-f7d4-669193dcadd6"
      },
      "outputs": [],
      "source": [
        "# 1. Установка зависимостей\n",
        "!pip install -q ultralytics torch torchvision kagglehub"
      ]
    },
    {
      "cell_type": "code",
      "execution_count": null,
      "metadata": {
        "colab": {
          "base_uri": "https://localhost:8080/"
        },
        "id": "0Q0lUB9Q-kpT",
        "outputId": "758660d2-9264-4ec7-9321-43607fb14acd"
      },
      "outputs": [],
      "source": [
        "# 2. Скачиваем датасет через kagglehub\n",
        "import kagglehub, os, random, shutil\n",
        "\n",
        "BASE = kagglehub.dataset_download(\"gunarakulangr/wild-elephant-yolo-format-dataset\")\n",
        "DS_ROOT   = os.path.join(BASE, \"elephant-dataset-yolov\")\n",
        "TRAIN_IMG = os.path.join(DS_ROOT, \"train\", \"images\")\n",
        "TRAIN_LBL = os.path.join(DS_ROOT, \"train\", \"labels\")\n",
        "VAL_IMG   = os.path.join(DS_ROOT, \"valid\", \"images\")\n",
        "VAL_LBL   = os.path.join(DS_ROOT, \"valid\", \"labels\")\n",
        "TEST_IMG  = os.path.join(DS_ROOT, \"test\",  \"images\")\n",
        "TEST_LBL  = os.path.join(DS_ROOT, \"test\",  \"labels\")\n",
        "\n",
        "print(f\"Orig sizes → train: {len(os.listdir(TRAIN_IMG))}, val: {len(os.listdir(VAL_IMG))}, test: {len(os.listdir(TEST_IMG))}\")"
      ]
    },
    {
      "cell_type": "code",
      "execution_count": null,
      "metadata": {
        "id": "RXPU3RJ6-mAh"
      },
      "outputs": [],
      "source": [
        "# 3. Создаём новую маленькую выборку\n",
        "SAMPLED_ROOT = \"/content/elephant_subset\"\n",
        "for split in (\"train\",\"valid\",\"test\"):\n",
        "    for sub in (\"images\",\"labels\"):\n",
        "        os.makedirs(os.path.join(SAMPLED_ROOT, split, sub), exist_ok=True)"
      ]
    },
    {
      "cell_type": "code",
      "execution_count": null,
      "metadata": {
        "id": "7vLQwQ31-ni9"
      },
      "outputs": [],
      "source": [
        "# 3.1 Сэмплируем 500 train\n",
        "all_train = sorted(os.listdir(TRAIN_IMG))\n",
        "random.seed(42)\n",
        "sample_train = random.sample(all_train, 500)\n",
        "for fn in sample_train:\n",
        "    shutil.copy(os.path.join(TRAIN_IMG, fn), os.path.join(SAMPLED_ROOT, \"train\", \"images\", fn))\n",
        "    lbl = fn.replace(\".jpg\", \".txt\")\n",
        "    shutil.copy(os.path.join(TRAIN_LBL, lbl), os.path.join(SAMPLED_ROOT, \"train\", \"labels\", lbl))"
      ]
    },
    {
      "cell_type": "code",
      "execution_count": null,
      "metadata": {
        "colab": {
          "base_uri": "https://localhost:8080/"
        },
        "id": "PdECzLpq-ooP",
        "outputId": "f11e627d-7466-4144-8e8e-82686c597791"
      },
      "outputs": [],
      "source": [
        "# 3.2 Пропорционально для val и test\n",
        "orig_n = len(all_train)\n",
        "val_ratio  = len(os.listdir(VAL_IMG))  / orig_n\n",
        "test_ratio = len(os.listdir(TEST_IMG)) / orig_n\n",
        "n_val  = max(1, int(round(500 * val_ratio)))\n",
        "n_test = max(1, int(round(500 * test_ratio)))\n",
        "\n",
        "all_val  = sorted(os.listdir(VAL_IMG))\n",
        "all_test = sorted(os.listdir(TEST_IMG))\n",
        "sample_val  = random.sample(all_val,  n_val)\n",
        "sample_test = random.sample(all_test, n_test)\n",
        "\n",
        "for fn in sample_val:\n",
        "    shutil.copy(os.path.join(VAL_IMG, fn), os.path.join(SAMPLED_ROOT, \"valid\", \"images\", fn))\n",
        "    lbl = fn.replace(\".jpg\", \".txt\")\n",
        "    shutil.copy(os.path.join(VAL_LBL, lbl), os.path.join(SAMPLED_ROOT, \"valid\", \"labels\", lbl))\n",
        "\n",
        "for fn in sample_test:\n",
        "    shutil.copy(os.path.join(TEST_IMG, fn), os.path.join(SAMPLED_ROOT, \"test\", \"images\", fn))\n",
        "    lbl = fn.replace(\".jpg\", \".txt\")\n",
        "    shutil.copy(os.path.join(TEST_LBL, lbl), os.path.join(SAMPLED_ROOT, \"test\", \"labels\", lbl))\n",
        "\n",
        "print(f\"Subsampled → train: {len(sample_train)}, valid: {len(sample_val)}, test: {len(sample_test)}\")"
      ]
    },
    {
      "cell_type": "code",
      "execution_count": null,
      "metadata": {
        "colab": {
          "base_uri": "https://localhost:8080/"
        },
        "id": "K7gNx4uE-psn",
        "outputId": "7efd28ec-e586-4b32-8022-137fd8492320"
      },
      "outputs": [],
      "source": [
        "# 4. Генерируем новый data_config.yaml\n",
        "DATA_YAML = \"/content/data_config.yaml\"\n",
        "with open(DATA_YAML, \"w\") as f:\n",
        "    f.write(f\"\"\"\\\n",
        "path: {SAMPLED_ROOT}\n",
        "train: train/images\n",
        "val:   valid/images\n",
        "\n",
        "names:\n",
        "  0: elephant\n",
        "\"\"\")\n",
        "print(open(DATA_YAML).read())"
      ]
    },
    {
      "cell_type": "code",
      "execution_count": null,
      "metadata": {
        "colab": {
          "base_uri": "https://localhost:8080/"
        },
        "id": "uNOrXSU6PVUR",
        "outputId": "6991017a-4639-4ee9-ac0e-cb0c8c02a4e6"
      },
      "outputs": [],
      "source": [
        "# 5. Импорт и проверка GPU\n",
        "from ultralytics import YOLO\n",
        "import torch\n",
        "print(\"PyTorch:\", torch.__version__)\n",
        "print(\"CUDA available:\", torch.cuda.is_available(), \"| Device:\", torch.cuda.get_device_name(0) if torch.cuda.is_available() else \"CPU\")\n"
      ]
    },
    {
      "cell_type": "markdown",
      "metadata": {
        "id": "ar0GIddm-slL"
      },
      "source": [
        "## Тренировка v8n"
      ]
    },
    {
      "cell_type": "code",
      "execution_count": null,
      "metadata": {
        "colab": {
          "base_uri": "https://localhost:8080/"
        },
        "id": "9cDwe4R7PxS8",
        "outputId": "02e78580-5dad-4495-ea82-e55dbafcbaae"
      },
      "outputs": [],
      "source": [
        "from ultralytics import YOLO\n",
        "import os\n",
        "import torch\n",
        "\n",
        "# Проверка доступности GPU\n",
        "print(f\"PyTorch version: {torch.__version__}\")\n",
        "print(f\"CUDA available: {torch.cuda.is_available()}\")\n",
        "print(f\"GPU device: {torch.cuda.get_device_name(0)}\")\n",
        "\n",
        "# Пути к данным\n",
        "MODEL_NAME = \"yolov8n.pt\"\n",
        "OUTPUT_DIR = \"/kaggle/working/runs\"\n",
        "\n",
        "# Создание модели\n",
        "model = YOLO(MODEL_NAME)\n",
        "\n",
        "# Настройки обучения\n",
        "config = {\n",
        "    \"data\": DATA_YAML,\n",
        "    \"epochs\": 50,\n",
        "    \"imgsz\": 640,\n",
        "    \"batch\": 8,\n",
        "    \"device\": 0,\n",
        "    \"name\": \"bicycle_v1\",\n",
        "    \"optimizer\": \"Adam\",\n",
        "    \"lr0\": 0.001,\n",
        "    \"augment\": True,\n",
        "    \"patience\": 10,\n",
        "    \"save_period\": 5,\n",
        "    \"exist_ok\": True,\n",
        "    \"project\": OUTPUT_DIR\n",
        "}\n",
        "\n",
        "# Запуск обучения\n",
        "results = model.train(**config)"
      ]
    },
    {
      "cell_type": "code",
      "execution_count": null,
      "metadata": {
        "colab": {
          "base_uri": "https://localhost:8080/",
          "height": 1000
        },
        "id": "guU7ffniQkod",
        "outputId": "bac85989-2db6-4acc-d136-707b3a2c3e5d"
      },
      "outputs": [],
      "source": [
        "from IPython.display import Image, display\n",
        "\n",
        "model.save('yolo8n_1.pt')\n",
        "\n",
        "for img in os.listdir(TEST_IMG)[:10]:\n",
        "  results = model.predict(TEST_IMG + \"/\" + img, conf=0.5)\n",
        "  results[0].save(\"result.jpg\")\n",
        "  display(Image(\"result.jpg\"))"
      ]
    },
    {
      "cell_type": "markdown",
      "metadata": {
        "id": "nX3kCfWt_kcw"
      },
      "source": [
        "## Тренировка 11n"
      ]
    },
    {
      "cell_type": "code",
      "execution_count": null,
      "metadata": {
        "colab": {
          "base_uri": "https://localhost:8080/"
        },
        "id": "DjNPBD63TNrz",
        "outputId": "c2aa89d7-1dba-4048-b8ff-168149eccfd2"
      },
      "outputs": [],
      "source": [
        "from ultralytics import YOLO\n",
        "import os\n",
        "import torch\n",
        "\n",
        "# Проверка доступности GPU\n",
        "print(f\"PyTorch version: {torch.__version__}\")\n",
        "print(f\"CUDA available: {torch.cuda.is_available()}\")\n",
        "print(f\"GPU device: {torch.cuda.get_device_name(0)}\")\n",
        "\n",
        "# Пути к данным\n",
        "MODEL_NAME = \"yolo11n.pt\"\n",
        "OUTPUT_DIR = \"/kaggle/working/runs\"\n",
        "\n",
        "# Создание модели\n",
        "model = YOLO(MODEL_NAME)\n",
        "\n",
        "# Настройки обучения\n",
        "config = {\n",
        "    \"data\": DATA_YAML,\n",
        "    \"epochs\": 50,\n",
        "    \"imgsz\": 640,\n",
        "    \"batch\": 8,\n",
        "    \"device\": 0,\n",
        "    \"name\": \"bicycle_v1\",\n",
        "    \"optimizer\": \"Adam\",\n",
        "    \"lr0\": 0.001,\n",
        "    \"augment\": True,\n",
        "    \"patience\": 10,\n",
        "    \"save_period\": 5,\n",
        "    \"exist_ok\": True,\n",
        "    \"project\": OUTPUT_DIR\n",
        "}\n",
        "\n",
        "# Запуск обучения\n",
        "results = model.train(**config)"
      ]
    },
    {
      "cell_type": "code",
      "execution_count": null,
      "metadata": {
        "colab": {
          "base_uri": "https://localhost:8080/",
          "height": 1000
        },
        "id": "j1Cdamt7Th-I",
        "outputId": "58bf9fb6-f574-41c0-9453-34d1a06ddb0f"
      },
      "outputs": [],
      "source": [
        "from IPython.display import Image, display\n",
        "\n",
        "model.save('yolo11n_1.pt')\n",
        "\n",
        "for img in os.listdir(TEST_IMG)[:10]:\n",
        "  results = model.predict(TEST_IMG + \"/\" + img, conf=0.5)\n",
        "  results[0].save(\"result.jpg\")\n",
        "  display(Image(\"result.jpg\"))"
      ]
    },
    {
      "cell_type": "markdown",
      "metadata": {
        "id": "PexR53Zo_pnV"
      },
      "source": [
        "## Тренировка v8m"
      ]
    },
    {
      "cell_type": "code",
      "execution_count": null,
      "metadata": {
        "colab": {
          "base_uri": "https://localhost:8080/"
        },
        "id": "P7eKPCtaTpgx",
        "outputId": "30e11094-d5fe-4e55-d994-187939431672"
      },
      "outputs": [],
      "source": [
        "from ultralytics import YOLO\n",
        "import os\n",
        "import torch\n",
        "\n",
        "# Проверка доступности GPU\n",
        "print(f\"PyTorch version: {torch.__version__}\")\n",
        "print(f\"CUDA available: {torch.cuda.is_available()}\")\n",
        "print(f\"GPU device: {torch.cuda.get_device_name(0)}\")\n",
        "\n",
        "# Пути к данным\n",
        "MODEL_NAME = \"yolov8m.pt\"\n",
        "OUTPUT_DIR = \"/kaggle/working/runs\"\n",
        "\n",
        "# Создание модели\n",
        "model = YOLO(MODEL_NAME)\n",
        "\n",
        "# Настройки обучения\n",
        "config = {\n",
        "    \"data\": DATA_YAML,\n",
        "    \"epochs\": 50,\n",
        "    \"imgsz\": 640,\n",
        "    \"batch\": 8,\n",
        "    \"device\": 0,\n",
        "    \"name\": \"bicycle_v1\",\n",
        "    \"optimizer\": \"Adam\",\n",
        "    \"lr0\": 0.001,\n",
        "    \"augment\": True,\n",
        "    \"patience\": 10,\n",
        "    \"save_period\": 5,\n",
        "    \"exist_ok\": True,\n",
        "    \"project\": OUTPUT_DIR\n",
        "}\n",
        "\n",
        "# Запуск обучения\n",
        "results = model.train(**config)"
      ]
    },
    {
      "cell_type": "code",
      "execution_count": null,
      "metadata": {
        "colab": {
          "base_uri": "https://localhost:8080/",
          "height": 1000
        },
        "id": "8PN9sbZaTr_l",
        "outputId": "acf301c1-e7ac-466b-d195-044c228e9c9f"
      },
      "outputs": [],
      "source": [
        "from IPython.display import Image, display\n",
        "\n",
        "model.save('yolov8m_1.pt')\n",
        "\n",
        "for img in os.listdir(TEST_IMG)[:10]:\n",
        "  results = model.predict(TEST_IMG + \"/\" + img, conf=0.5)\n",
        "  results[0].save(\"result.jpg\")\n",
        "  display(Image(\"result.jpg\"))"
      ]
    },
    {
      "cell_type": "markdown",
      "metadata": {
        "id": "v8Wn3GFp_uh1"
      },
      "source": [
        "## Тренировка 11m"
      ]
    },
    {
      "cell_type": "code",
      "execution_count": null,
      "metadata": {
        "colab": {
          "base_uri": "https://localhost:8080/"
        },
        "id": "57hvBGFlTuNS",
        "outputId": "d81c626e-d1d3-4a5d-bf4a-76191c8fcfd6"
      },
      "outputs": [],
      "source": [
        "from ultralytics import YOLO\n",
        "import os\n",
        "import torch\n",
        "\n",
        "# Проверка доступности GPU\n",
        "print(f\"PyTorch version: {torch.__version__}\")\n",
        "print(f\"CUDA available: {torch.cuda.is_available()}\")\n",
        "print(f\"GPU device: {torch.cuda.get_device_name(0)}\")\n",
        "\n",
        "# Пути к данным\n",
        "MODEL_NAME = \"yolo11m.pt\"\n",
        "OUTPUT_DIR = \"/kaggle/working/runs\"\n",
        "\n",
        "# Создание модели\n",
        "model = YOLO(MODEL_NAME)\n",
        "\n",
        "# Настройки обучения\n",
        "config = {\n",
        "    \"data\": DATA_YAML,\n",
        "    \"epochs\": 50,\n",
        "    \"imgsz\": 640,\n",
        "    \"batch\": 8,\n",
        "    \"device\": 0,\n",
        "    \"name\": \"bicycle_v1\",\n",
        "    \"optimizer\": \"Adam\",\n",
        "    \"lr0\": 0.001,\n",
        "    \"augment\": True,\n",
        "    \"patience\": 10,\n",
        "    \"save_period\": 5,\n",
        "    \"exist_ok\": True,\n",
        "    \"project\": OUTPUT_DIR\n",
        "}\n",
        "\n",
        "# Запуск обучения\n",
        "results = model.train(**config)"
      ]
    },
    {
      "cell_type": "code",
      "execution_count": null,
      "metadata": {
        "colab": {
          "base_uri": "https://localhost:8080/",
          "height": 1000
        },
        "id": "AsVmXNrbTwjG",
        "outputId": "39193ec8-3dd9-42f4-f4b5-7718464dbf77"
      },
      "outputs": [],
      "source": [
        "from IPython.display import Image, display\n",
        "\n",
        "model.save('yolo11m_1.pt')\n",
        "\n",
        "for img in os.listdir(TEST_IMG)[:10]:\n",
        "  results = model.predict(TEST_IMG + \"/\" + img, conf=0.5)\n",
        "  results[0].save(\"result.jpg\")\n",
        "  display(Image(\"result.jpg\"))"
      ]
    },
    {
      "cell_type": "code",
      "execution_count": null,
      "metadata": {
        "colab": {
          "base_uri": "https://localhost:8080/"
        },
        "id": "Hd8iFGuj_3N5",
        "outputId": "caac547e-d9be-4ce9-d02b-42f0e447385e"
      },
      "outputs": [],
      "source": [
        "# 10. Сравнение обученных моделей на тестовом датасете\n",
        "\n",
        "# 10.1 Устанавливаем дополнительные библиотеки\n",
        "!pip install -q pandas matplotlib\n",
        "\n",
        "# 10.2 Подготовка test_config.yaml: укажем и train, и val, оба на тестовые изображения\n",
        "TEST_YAML = \"/content/test_config.yaml\"\n",
        "with open(TEST_YAML, \"w\") as f:\n",
        "    f.write(f\"\"\"\\\n",
        "path: {SAMPLED_ROOT}\n",
        "train: test/images\n",
        "val:   test/images\n",
        "\n",
        "names:\n",
        "  0: elephant\n",
        "\"\"\")\n",
        "print(\"Test config:\")\n",
        "print(open(TEST_YAML).read())\n",
        "\n",
        "\n",
        "# 10.3 Импорты\n",
        "from ultralytics import YOLO\n",
        "import pandas as pd\n",
        "import matplotlib.pyplot as plt\n",
        "\n",
        "# 10.4 Пути к вашим weight‑файлам\n",
        "model_paths = {\n",
        "    \"yolov8n\": \"yolo8n_1.pt\",\n",
        "    \"yolo11n\": \"yolo11n_1.pt\",\n",
        "    \"yolov8m\": \"yolov8m_1.pt\",\n",
        "    \"yolo11m\": \"yolo11m_1.pt\"\n",
        "}"
      ]
    },
    {
      "cell_type": "code",
      "execution_count": null,
      "metadata": {
        "colab": {
          "base_uri": "https://localhost:8080/"
        },
        "id": "cWxJtQH0_4Uo",
        "outputId": "7038487c-72de-4f2a-b98a-fde4ea1003f4"
      },
      "outputs": [],
      "source": [
        "# 10.5 Оцениваем каждую модель на тест‑сплите\n",
        "metrics = {}\n",
        "for name, weights in model_paths.items():\n",
        "    print(f\"=== Evaluating {name} ===\")\n",
        "    res = YOLO(weights).val(data=TEST_YAML, batch=8, device=\"CPU\")\n",
        "    # Берём mAP@0.5 из результатов\n",
        "    mAP50 = res.results_dict[\"metrics/mAP50(B)\"]\n",
        "    metrics[name] = mAP50\n",
        "    print(f\"{name}: mAP@0.5 = {mAP50:.3f}\\n\")"
      ]
    },
    {
      "cell_type": "code",
      "execution_count": null,
      "metadata": {
        "colab": {
          "base_uri": "https://localhost:8080/"
        },
        "id": "0OH5q98H_5iE",
        "outputId": "4000c288-a5fb-420b-b94e-dbc43b995419"
      },
      "outputs": [],
      "source": [
        "# 10.6 Собираем в DataFrame и показываем\n",
        "df = pd.DataFrame.from_dict(metrics, orient=\"index\", columns=[\"mAP50\"])\n",
        "df.index.name = \"model\"\n",
        "print(\"Сводная таблица mAP@0.5 на тесте:\")\n",
        "display(df)"
      ]
    },
    {
      "cell_type": "code",
      "execution_count": null,
      "metadata": {
        "colab": {
          "base_uri": "https://localhost:8080/",
          "height": 391
        },
        "id": "UTPuQIkg5P5Z",
        "outputId": "87899e55-f1dd-4508-d177-71866dbaed0d"
      },
      "outputs": [],
      "source": [
        "# 10.7 Рисуем столбчатый график\n",
        "plt.figure(figsize=(8,4))\n",
        "plt.bar(df.index, df[\"mAP50\"])\n",
        "plt.title(\"Сравнение моделей на тестовом датасете\")\n",
        "plt.ylabel(\"mAP@0.5\")\n",
        "plt.ylim(0,1)\n",
        "for i, v in enumerate(df[\"mAP50\"]):\n",
        "    plt.text(i, v+0.02, f\"{v:.2f}\", ha=\"center\")\n",
        "plt.show()"
      ]
    }
  ],
  "metadata": {
    "accelerator": "GPU",
    "colab": {
      "gpuType": "T4",
      "provenance": []
    },
    "kernelspec": {
      "display_name": "Python 3",
      "name": "python3"
    },
    "language_info": {
      "name": "python"
    }
  },
  "nbformat": 4,
  "nbformat_minor": 0
}
